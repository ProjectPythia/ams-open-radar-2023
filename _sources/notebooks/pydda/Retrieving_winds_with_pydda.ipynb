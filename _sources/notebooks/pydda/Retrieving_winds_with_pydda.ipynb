{
 "cells": [
  {
   "cell_type": "markdown",
   "id": "0242871b-d80b-46c5-86ac-eb7923c49d61",
   "metadata": {},
   "source": [
    "# PyDDA tutorial"
   ]
  },
  {
   "cell_type": "markdown",
   "id": "81e06959-2da6-41b3-8f1d-7ae1c5f3c0cf",
   "metadata": {},
   "source": [
    "![PyDDA logo](https://openradarscience.org/PyDDA/_images/logo.png)\n",
    "\n",
    "\n",
    "PyDDA is an open source Python package for retrieving winds using Multiple Doppler analyses. It uses the 3D variational technique for retrieving winds from multiple Doppler radars. It uses Py-ART Grid Objects as inputs. Therefore, preprocessed and gridded data are needed for PyDDA to run.\n",
    "\n",
    "## 3D variational technique\n",
    "PyDDA uses a 3D variational technique to retrieve the 3D wind field. We will leave students that are interested in more information about these technqiues two references to read at the end of this notebook. A basic introduction to 3D variational analysis is given here.\n",
    "\n",
    "PyDDA minimizes a cost function $J$ that corresponds to various penalties including:\n",
    "\n",
    "$J_{m} = \\nabla \\cdot V$ which corresponds to the mass continuity equation.\n",
    "\n",
    "$J_{o} = $ RMSE between radar winds and analysis winds.\n",
    "\n",
    "$J_{b} = $ RMSE between sounding winds and analysis winds.\n",
    "\n",
    "$J_{s} = \\nabla^2 V$ which corresponds to the smoothness of wind field to eliminate high-frequency noise that can result from numerical instability.\n",
    "\n",
    "The cost function to be minimized is a weighted sum of the various cost functions in PyDDA and are represented in Equation (1):\n",
    "\n",
    "<p style=\"text-align: center;\">$J = c_{m}J_{m} + c_{o}J_{o} + c_{b}J_{b} + c_{s}J_{s} + ...$ (1)</p>\n",
    "\n",
    "### References\n"
   ]
  },
  {
   "cell_type": "markdown",
   "id": "228ce34a-ee42-4549-bfe1-6beb6d3ee684",
   "metadata": {},
   "source": [
    "## Imports\n",
    "\n",
    "Let's import the necessary libraries. For now, we'll need PyART, glob, matplotlib, and PyDDA."
   ]
  },
  {
   "cell_type": "code",
   "execution_count": null,
   "id": "8c6dd7c3-cdaa-464a-80c8-3604f2f98615",
   "metadata": {
    "tags": []
   },
   "outputs": [],
   "source": [
    "import glob\n",
    "import fsspec\n",
    "\n",
    "import pyart\n",
    "import matplotlib.pyplot as plt\n",
    "import pydda\n",
    "import warnings\n",
    "import numpy as np\n",
    "import pandas as pd\n",
    "import cartopy.crs as ccrs\n",
    "warnings.filterwarnings(\"ignore\")"
   ]
  },
  {
   "cell_type": "markdown",
   "id": "9cb359c7-a60e-4515-86c2-c8b1abba1459",
   "metadata": {},
   "source": [
    "## Case study\n",
    "\n",
    "We will examine the same case study over Northern Alabama that has been used for this entire short course. For this case in April 2008, we had an MCS with supercells out ahead of the main line approach the Huntsville, AL region. 3D variational retrievals of thunderstorm updrafts can have uncertainties on the order of 5 m/s. In addition these retrievals require precipitation coverage throughout the domain. Therefore, 3DVAR retrievals are best suited for deep convection like this where the updrafts are strong and precipitation coverage is wide.\n",
    "\n",
    "For this case, we had coverage of the storm from two radars, the ARMOR and the Huntsville NEXRAD radar "
   ]
  },
  {
   "cell_type": "markdown",
   "id": "7f8137e2-7548-4eda-a474-75541602e705",
   "metadata": {},
   "source": [
    "### UAH ARMOR Radar\n",
    "\n",
    "We need to load and preprocess the UAH armor data first. In order to do so, we first need to load the ARMOR radar file."
   ]
  },
  {
   "cell_type": "code",
   "execution_count": null,
   "id": "3542c0f0-cb2d-4ff1-83e1-4cfdbb5fdfae",
   "metadata": {
    "tags": []
   },
   "outputs": [],
   "source": [
    "files = glob.glob('../../data/uah-armor/*')\n",
    "radar = pyart.io.read(files[1])"
   ]
  },
  {
   "cell_type": "markdown",
   "id": "1b39a68b-14cb-4328-a9ed-ee5fbd4396ea",
   "metadata": {},
   "source": [
    "### Dealiasing\n",
    "\n",
    "The next step is to dealias the radar data. We will follow the steps that were shown eariler in this course to dealias the radar data."
   ]
  },
  {
   "cell_type": "code",
   "execution_count": null,
   "id": "7657ae86-4075-48ca-aae6-7a2735a4d15a",
   "metadata": {
    "tags": []
   },
   "outputs": [],
   "source": [
    "nyquist = radar.instrument_parameters['nyquist_velocity']['data'][0]\n",
    "vel_dealias = pyart.correct.dealias_region_based(radar,\n",
    "                                                    vel_field='velocity',\n",
    "                                                    nyquist_vel=nyquist,\n",
    "                                                    centered=True,\n",
    "                                                    )\n",
    "radar.add_field('corrected_velocity', vel_dealias, replace_existing=True)"
   ]
  },
  {
   "cell_type": "markdown",
   "id": "6b905e71-efd0-4485-96c6-7638b3e61f2a",
   "metadata": {
    "tags": []
   },
   "source": [
    "Plot the data to make sure dealiasing succeeded."
   ]
  },
  {
   "cell_type": "code",
   "execution_count": null,
   "id": "e614bec6-af12-4d48-8fc9-59902b752245",
   "metadata": {
    "tags": []
   },
   "outputs": [],
   "source": [
    "display = pyart.graph.RadarDisplay(radar)\n",
    "display.plot('reflectivity',\n",
    "             vmin=-20,\n",
    "             vmax=70,\n",
    "             cmap='pyart_ChaseSpectral',\n",
    "             sweep=0)"
   ]
  },
  {
   "cell_type": "code",
   "execution_count": null,
   "id": "cdc12c1a-7c14-42f4-964d-9843582f2b46",
   "metadata": {
    "tags": []
   },
   "outputs": [],
   "source": [
    "display = pyart.graph.RadarDisplay(radar)\n",
    "display.plot('corrected_velocity',\n",
    "             vmin=-30,\n",
    "             vmax=30,\n",
    "             cmap='twilight_shifted',\n",
    "             sweep=0)"
   ]
  },
  {
   "cell_type": "markdown",
   "id": "66b63ad8-16a8-4d27-88c0-7365ceeb31ab",
   "metadata": {},
   "source": [
    "Let's despeckle the above radar data to remove some artifacts."
   ]
  },
  {
   "cell_type": "code",
   "execution_count": null,
   "id": "db094701-e4f1-444f-91ac-bd03a24bd783",
   "metadata": {
    "tags": []
   },
   "outputs": [],
   "source": [
    "gatefilter = pyart.filters.GateFilter(radar)\n",
    "gatefilter.exclude_above('spectrum_width', 7)\n",
    "gatefilter.exclude_below('cross_correlation_ratio', 0.8)\n",
    "gatefilter = pyart.correct.despeckle_field(radar, 'reflectivity', gatefilter=gatefilter)\n",
    "display = pyart.graph.RadarDisplay(radar)\n",
    "display.plot('reflectivity',\n",
    "             vmin=-20,\n",
    "             vmax=70, gatefilter=gatefilter,\n",
    "             cmap='pyart_ChaseSpectral',\n",
    "             sweep=0)"
   ]
  },
  {
   "cell_type": "markdown",
   "id": "ef6f3b4f-c5e9-4045-ae70-388130c60bb5",
   "metadata": {},
   "source": [
    "## Gridding\n",
    "\n",
    "PyDDA requires data to be gridded to Cartesian coordinates in order to retrieve the 3D wind fields. Therefore, we will use Py-ART's *grid_from_radars* function in order to do the gridding. You usually want to have a grid resolution such that your features of interest are covered by four grid points. In this case, we're at 1 km horizontal and 0.5 km vertical resolution. (Ask if we are covering gridding in Py-ART and wait for link here)"
   ]
  },
  {
   "cell_type": "code",
   "execution_count": null,
   "id": "24346324-4275-47b6-9b45-cf37032af6ba",
   "metadata": {
    "tags": []
   },
   "outputs": [],
   "source": [
    "grid_limits = ((0., 15000.), (-100_000., 100_000.), (-100_000., 100_000.))\n",
    "grid_shape = (31, 201, 201)\n",
    "radar.fields[\"corrected_velocity\"][\"data\"] = np.ma.masked_where(gatefilter.gate_excluded,\n",
    "                                                        radar.fields[\"corrected_velocity\"][\"data\"])\n",
    "radar.fields[\"reflectivity\"][\"data\"] = np.ma.masked_where(gatefilter.gate_excluded,\n",
    "                                                        radar.fields[\"reflectivity\"][\"data\"])\n",
    "\n",
    "uah_grid = pyart.map.grid_from_radars([radar], grid_limits=grid_limits,\n",
    "                                 grid_shape=grid_shape)\n",
    "uah_ds = uah_grid.to_xarray()\n",
    "uah_ds"
   ]
  },
  {
   "cell_type": "markdown",
   "id": "5e9b244c-64e0-4e00-829c-7b28294c0197",
   "metadata": {},
   "source": [
    "Let's make sure the grid looks good!"
   ]
  },
  {
   "cell_type": "code",
   "execution_count": null,
   "id": "bb288c1a-c7df-4b25-87a1-8a9124d6048b",
   "metadata": {
    "tags": []
   },
   "outputs": [],
   "source": [
    "uah_ds.isel(z=1).reflectivity.plot(x='lon',\n",
    "                                   y='lat',\n",
    "                                   vmin=-20,\n",
    "                                   vmax=70,\n",
    "                                   cmap='pyart_ChaseSpectral')"
   ]
  },
  {
   "cell_type": "code",
   "execution_count": null,
   "id": "bc29a36a-295d-40c3-bff9-52af32e366d5",
   "metadata": {
    "tags": []
   },
   "outputs": [],
   "source": [
    "uah_ds.isel(y=115).reflectivity.plot(x='x',\n",
    "                                   y='z',\n",
    "                                   vmin=-20,\n",
    "                                   vmax=70,\n",
    "                                   cmap='pyart_ChaseSpectral')"
   ]
  },
  {
   "cell_type": "markdown",
   "id": "1242cc3a-378b-41fc-9c9f-bd2a043e4b20",
   "metadata": {},
   "source": [
    "### NEXRAD Data\n",
    "\n",
    "Next, we need to load the NEXRAD data. This is available on Amazon Web Services under the noaa-nexrad-level2 bucket. This S3 bucket has all of the historical NEXRAD WSR-88D level 2 data that is available for the continential US Use the below code snippet to retrieve the NEXRAD data from Amazon Web Services."
   ]
  },
  {
   "cell_type": "code",
   "execution_count": null,
   "id": "0950cf96-68f0-461d-8869-716a69fe9341",
   "metadata": {
    "tags": []
   },
   "outputs": [],
   "source": [
    "fs = fsspec.filesystem(\"s3\", anon=True)\n",
    "files = sorted(fs.glob(\"s3://noaa-nexrad-level2/2008/04/11/KHTX/KHTX20080411_18*\"))\n",
    "files"
   ]
  },
  {
   "cell_type": "markdown",
   "id": "562afbe2-22e6-4d37-85fe-6031809c59f3",
   "metadata": {},
   "source": [
    "Read a single file, the one closes to the UAH volume scan used before"
   ]
  },
  {
   "cell_type": "code",
   "execution_count": null,
   "id": "6686a368-fe8c-48e1-862c-449b650e35a4",
   "metadata": {
    "tags": []
   },
   "outputs": [],
   "source": [
    "nexrad_radar = pyart.io.read_nexrad_archive(f's3://{files[7]}', station='KHTX')"
   ]
  },
  {
   "cell_type": "markdown",
   "id": "484d2a8e-8328-4935-ada7-c9da1963cc03",
   "metadata": {},
   "source": [
    "Visualize the data to make sure we have the correct scan."
   ]
  },
  {
   "cell_type": "code",
   "execution_count": null,
   "id": "13a9b887-c3cb-455e-a7b5-88000f309430",
   "metadata": {
    "tags": []
   },
   "outputs": [],
   "source": [
    "display = pyart.graph.RadarDisplay(nexrad_radar)\n",
    "display.plot('reflectivity',\n",
    "                     vmin=0,\n",
    "                     vmax=70,\n",
    "                     cmap='pyart_ChaseSpectral',\n",
    "                     sweep=0)\n",
    "plt.ylim(-200, 200)\n",
    "plt.xlim(-200, 200)"
   ]
  },
  {
   "cell_type": "markdown",
   "id": "87ad04d2-a558-4704-9e61-37068856eac1",
   "metadata": {},
   "source": [
    "The NEXRAD level 2 also need to be dealiased. We will still need to filter out the noise in the above radar data."
   ]
  },
  {
   "cell_type": "code",
   "execution_count": null,
   "id": "2f1aab95-d551-49e7-9704-046dfc8280c2",
   "metadata": {
    "tags": []
   },
   "outputs": [],
   "source": [
    "# Use the ARMOR radar lat/lon as the center for the grid\n",
    "grid_lat = radar.latitude['data'][0]\n",
    "grid_lon = radar.longitude['data'][0]\n",
    "vel_dealias = pyart.correct.dealias_region_based(nexrad_radar,\n",
    "                                                    vel_field='velocity',\n",
    "                                                    nyquist_vel=nyquist,\n",
    "                                                    centered=True,\n",
    "                                                    )\n",
    "nexrad_radar.add_field('corrected_velocity', vel_dealias, replace_existing=True)\n",
    "                                                  \n",
    "\n",
    "nexrad_grid = pyart.map.grid_from_radars([nexrad_radar],\n",
    "                                         grid_limits=grid_limits,\n",
    "                                         grid_shape=grid_shape,\n",
    "                                         grid_origin=(grid_lat, grid_lon),\n",
    "                                        )\n",
    "\n",
    "# Convert to xarray and remove the time dimension\n",
    "nexrad_ds = nexrad_grid.to_xarray().squeeze()"
   ]
  },
  {
   "cell_type": "markdown",
   "id": "dda5a0c9-be26-44f3-b389-403843c9d617",
   "metadata": {},
   "source": [
    "## Visualize the grids\n",
    "\n",
    "Let's see what our output data looks like!"
   ]
  },
  {
   "cell_type": "code",
   "execution_count": null,
   "id": "a7f1cdb4-e121-4858-b294-0c12b785ff3a",
   "metadata": {
    "tags": []
   },
   "outputs": [],
   "source": [
    "nexrad_ds.reflectivity.isel(z=1).plot(x='lon',\n",
    "                                      y='lat',\n",
    "                                      cmap='Spectral_r',\n",
    "                                      vmin=-20,\n",
    "                                      vmax=70)"
   ]
  },
  {
   "cell_type": "code",
   "execution_count": null,
   "id": "26a5561b-0509-4dad-bd58-09cf00732753",
   "metadata": {
    "tags": []
   },
   "outputs": [],
   "source": [
    "nexrad_ds.velocity.isel(z=8).plot(x='lon',\n",
    "                                  y='lat',\n",
    "                                  cmap='twilight_shifted',\n",
    "                                  vmin=-30,\n",
    "                                  vmax=30)"
   ]
  },
  {
   "cell_type": "code",
   "execution_count": null,
   "id": "c0193af6-2ee3-42a5-9390-d0ae77d5eda8",
   "metadata": {
    "tags": []
   },
   "outputs": [],
   "source": [
    "nexrad_ds.corrected_velocity.isel(y=115).plot(x='x',\n",
    "                                  y='z',\n",
    "                                  cmap='twilight_shifted',\n",
    "                                  vmin=-50,\n",
    "                                  vmax=30)"
   ]
  },
  {
   "cell_type": "markdown",
   "id": "0818d54c-7d61-477f-a2c3-c12a88b0edbc",
   "metadata": {},
   "source": [
    "## PyDDA initialization\n",
    "\n",
    "The 3DVAR wind retrieval first requires an initial guess at the wind field in order to start the cost function minimization process. PyDDA has support for using WRF and sounding data as an initial guess of the wind field as well as constant wind fields. \n",
    "\n",
    "| Initalization functions in **pydda.initialization** module: | Functionality         |\n",
    "|-------------------------------------------------------------|-----------------------|\n",
    "| make_constant_wind_field(Grid[, wind, vel_field]) | This function makes a constant wind field given a wind vector |\n",
    "| make_wind_field_from_profile(Grid, profile) | This function makes a 3D wind field from a sounding. |\n",
    "| make_background_from_wrf(Grid, file_path, ...) | This function makes an initalization field based off of the u and w from a WRF run.\n",
    "| make_initialization_from_era_interim(Grid[, ...]) | This function will read ERA Interim in NetCDF format and add it to the Py-ART grid specified by Grid. |\n",
    "\n",
    "For this example, we will use the closest NWS Sounding present in time as an initialization. The initial state is extremely important for the retrieval. If you specify a zero initial state, this has a tendency to have PyDDA resolve false updrafts and downdrafts in the cone of silence as the optimization loop will hold the background state to be zero where there is no radar data. Specifying the initial state, or a background constraint, will specify what the winds should be outside of the region of data coverage.\n",
    "\n",
    "The bottom code snippet will load a University of Wyoming sounding file, remove the NaNs, then convert the "
   ]
  },
  {
   "cell_type": "code",
   "execution_count": null,
   "id": "86ab291f-8c72-46d0-bcaa-8cd4d2a3ebee",
   "metadata": {
    "tags": []
   },
   "outputs": [],
   "source": [
    "col_names = [\"PRES\", \"HGHT\", \"TEMP\", \"DWPT\", \"RELH\", \"MIXR\", \"DRCT\", \"SKNT\", \"THTA\", \"THTE\", \"THTV\"]\n",
    "sounding = pd.read_csv(\n",
    "    '../../data/sounding_data/bmx_sounding_20080411_12Z.txt',\n",
    "    skiprows=4, names=col_names, delimiter='\\s+')\n",
    "spd = sounding[\"SKNT\"]*0.5144\n",
    "\n",
    "u_back = -spd * np.sin(np.deg2rad(sounding[\"DRCT\"]))\n",
    "v_back = -spd * np.cos(np.deg2rad(sounding[\"DRCT\"]))\n",
    "z_back = sounding[\"HGHT\"]\n",
    "# Remove NaNs from profile\n",
    "isnan = np.logical_or.reduce((~np.isfinite(u_back), ~np.isfinite(v_back), ~np.isfinite(z_back)))\n",
    "u_back = u_back[~isnan]\n",
    "v_back = v_back[~isnan]\n",
    "z_back = z_back[~isnan]\n",
    "spd = spd[~isnan]\n",
    "drct = sounding[\"DRCT\"][~isnan]\n",
    "profile = pyart.core.HorizontalWindProfile(sounding[\"HGHT\"][~isnan], spd, drct)"
   ]
  },
  {
   "cell_type": "code",
   "execution_count": null,
   "id": "3a8d0778-64b2-4231-837e-5933a521a370",
   "metadata": {
    "tags": []
   },
   "outputs": [],
   "source": [
    "uah_grid = pydda.initialization.make_wind_field_from_profile(\n",
    "    uah_grid, profile)"
   ]
  },
  {
   "cell_type": "markdown",
   "id": "52420d7b-251b-4c24-a80f-f41055c1c56b",
   "metadata": {
    "tags": []
   },
   "source": [
    "## PyDDA wind retrieval\n",
    "\n",
    "The core wind retrieval function in PyDDA is done using **retrieval.get_dd_wind_field**. It has many potential keyword inputs that the user can enter. In this example, we are specifying:\n",
    "\n",
    "| Input to **pydda.initialization** module: | Meaning | Value              |\n",
    "|-------------------------------------------|---------|--------------------|\n",
    "| Grids | The input grids to analyze. | [uah_grid, nexrad_grid] |\n",
    "| u_init| Initial guess of *u* field. | u_init |\n",
    "| v_init| Initial guess of *u* field. | v_init |\n",
    "| w_init| Initial guess of *u* field. | w_init |\n",
    "| Co | Weight for cost function related to radar observations | 1.0 |\n",
    "| Cm | Weight of cost function related to mass continuity equation | 256.0|\n",
    "| Cx | Weight of cost function for smoothess in the *x*-direction| 1e-3|\n",
    "| Cy | Weight of cost function for smoothess in the *y*-direction| 1e-3|\n",
    "| Cz | Weight of cost function for smoothess in the *z*-direction| 1e-3|\n",
    "| Cb | Weight of cost function for sounding (background) constraint| 0 |\n",
    "| frz| The freezing level in meters. This is to tell PyDDA where to use ice particle fall speeds in the wind retrieval verus liquid. | 5000. |\n",
    "| filter_window | The window to apply the low pass filter on | 5 |\n",
    "| mask_outside_opt | Mask all winds outside the Dual Doppler lobes | True\n",
    "| vel_name| The name of the velocity field in the radar data | 'corrected_velocity' |\n",
    "| wind_tol | Stop optimization when the change in wind speeds between iterations is less than this value |\n",
    "| engine | PyDDA supports three backends for optimization: SciPy, JAX, and TensorFlow. We highly recommend the TensorFlow backend to take advantage of parallelism and GPUs for retrieval. | \"tensorflow\""
   ]
  },
  {
   "cell_type": "code",
   "execution_count": null,
   "id": "4cf1788b-7847-4569-bef3-deabf641b25c",
   "metadata": {
    "tags": []
   },
   "outputs": [],
   "source": [
    "grids, params = pydda.retrieval.get_dd_wind_field([uah_grid, nexrad_grid], \n",
    "                                                  Co=0.1, Cm=1024.,\n",
    "                                                  Cx=1e2, Cy=1e2, Cz=1e2, Cb=0,\n",
    "                                                  frz=5000.0, filter_window=5,\n",
    "                                                  mask_outside_opt=True, upper_bc=1,\n",
    "                                                  vel_name='corrected_velocity',\n",
    "                                                  wind_tol=0.5, engine=\"scipy\")"
   ]
  },
  {
   "cell_type": "markdown",
   "id": "811d8438-e156-4e76-82df-826dae334dcc",
   "metadata": {},
   "source": [
    "## Visualize the results\n",
    "\n",
    "Let's visualize the results. There are two ways in which this data can be visualized. One way is by using PyDDA's visualization routines. You can also use xarray to visualize the output grids."
   ]
  },
  {
   "cell_type": "code",
   "execution_count": null,
   "id": "e4db3caf-373d-44e7-a9b2-ee2e4e5405bb",
   "metadata": {
    "tags": []
   },
   "outputs": [],
   "source": [
    "ds = grids[0].to_xarray()"
   ]
  },
  {
   "cell_type": "code",
   "execution_count": null,
   "id": "b0706268-a9e7-4de0-92a1-eb220895bb6f",
   "metadata": {
    "tags": []
   },
   "outputs": [],
   "source": [
    "ds"
   ]
  },
  {
   "cell_type": "code",
   "execution_count": null,
   "id": "d3054ed3-4378-43c1-8f11-a2c2bec0cb8c",
   "metadata": {
    "tags": []
   },
   "outputs": [],
   "source": [
    "ds.reflectivity.sel(z=3000, method='nearest').plot(cmap='pyart_ChaseSpectral')\n",
    "ds.isel(time=0).sel(z=3000, method='nearest').w.plot.contour(x='x', y='y', levels=np.arange(1, 10, 1))"
   ]
  },
  {
   "cell_type": "markdown",
   "id": "6db09a99-f18c-454b-9ad5-44aaea4dfd08",
   "metadata": {
    "tags": []
   },
   "source": [
    "## Saving the grids"
   ]
  },
  {
   "cell_type": "markdown",
   "id": "084087ae-43e8-479b-93af-b5ed5239f959",
   "metadata": {},
   "source": [
    "We can save the grids using either *xarray*'s or Py-ART's functionality. To save the output grids,  use *pyart.io.write_grid* (PyART) functions. For example:"
   ]
  },
  {
   "cell_type": "code",
   "execution_count": null,
   "id": "68336836-cbd6-4c3d-8731-c4a03be86c1d",
   "metadata": {
    "tags": []
   },
   "outputs": [],
   "source": [
    "pyart.io.write_grid('output_grid_KHTX.nc', grids[0])\n",
    "pyart.io.write_grid('output_grid_ARMOR.nc', grids[1])"
   ]
  },
  {
   "cell_type": "markdown",
   "id": "1183da0d-7d3f-4e33-9ed6-4727d4e2a8d1",
   "metadata": {},
   "source": [
    "In order to load the grids again, we can just use PyART's *pyart.io.read_grid* procedure."
   ]
  },
  {
   "cell_type": "code",
   "execution_count": null,
   "id": "3f2bdeed-c909-434c-a53e-4a9dcc74f61e",
   "metadata": {
    "tags": []
   },
   "outputs": [],
   "source": [
    "grids = [pyart.io.read_grid('output_grid_KHTX.nc'),\n",
    "         pyart.io.read_grid('output_grid_ARMOR.nc')]"
   ]
  },
  {
   "cell_type": "markdown",
   "id": "2275faa6-5fde-4866-aac1-63b9929c9fcb",
   "metadata": {
    "tags": []
   },
   "source": [
    "## PyDDA visualization routines\n",
    "PyDDA's visualization routines support the native PyART grids that are output by PyDDA. These routines have an advantage over xarray's plotting routines for adjusting your barb and quiver size by specifying their using parameters that are in scales of kilometers. This makes it easier to plot barb and quiver plots compared to using xarray's functionality. \n",
    "\n",
    "For example, the documentation for *pydda.vis.plot_horiz_xsection_quiver* is given below."
   ]
  },
  {
   "cell_type": "code",
   "execution_count": null,
   "id": "105d4e00-0deb-4369-9a88-91be332c841d",
   "metadata": {
    "tags": []
   },
   "outputs": [],
   "source": [
    "pydda.vis.plot_horiz_xsection_quiver?"
   ]
  },
  {
   "cell_type": "markdown",
   "id": "f9f63610-becb-4bf6-8877-baabd63ebc98",
   "metadata": {},
   "source": [
    "PyDDA has the following visualization routines for your sets of grids:\n",
    "\n",
    "| Procedure | Description |\n",
    "|-----------|-------------|\n",
    "| plot_horiz_xsection_barbs(Grids[, ax, ...]) | Horizontal cross section of winds from wind fields generated by PyDDA using barbs.\n",
    "| plot_xz_xsection_barbs(Grids[, ax, ...]) | Cross section of winds from wind fields generated by PyDDA in the X-Z plane using barbs.\n",
    "| plot_yz_xsection_barbs(Grids[, ax, ...]) | Cross section of winds from wind fields generated by PyDDA in the Y-Z plane using barbs.\n",
    "| plot_horiz_xsection_barbs_map(Grids[, ax, ...]) | Horizontal cross section of winds from wind fields generated by PyDDA onto a geographical map using barbs.\n",
    "| plot_horiz_xsection_streamlines(Grids[, ax, ...]) | Horizontal cross section of winds from wind fields generated by PyDDA using streamlines.\n",
    "| plot_xz_xsection_streamlines(Grids[, ax, ...])| Cross section of winds from wind fields generated by PyDDA in the X-Z plane using streamlines.\n",
    "| plot_yz_xsection_streamlines(Grids[, ax, ...]) | Cross section of winds from wind fields generated by PyDDA in the Y-Z plane using streamlines.\n",
    "| plot_horiz_xsection_streamlines_map(Grids[, ...]) | Horizontal cross section of winds from wind fields generated by PyDDA using streamlines.\n",
    "| plot_horiz_xsection_quiver(Grids[, ax, ...]) | Horizontal cross section of winds from wind fields generated by PyDDA using quivers.  \n",
    "| plot_xz_xsection_quiver(Grids[, ax, ...]) | Cross section of winds from wind fields generated by PyDDA in the X-Z plane using quivers.\n",
    "| plot_yz_xsection_quiver(Grids[, ax, ...]) | Cross section of winds from wind fields generated by PyDDA in the Y-Z plane using quivers.\n",
    "| plot_horiz_xsection_quiver_map(Grids[, ax, ...]) | Horizontal cross section of winds from wind fields generated by PyDDA using quivers onto a geographical map."
   ]
  },
  {
   "cell_type": "markdown",
   "id": "18a52c8f-364e-4bdb-8953-8fe1c2b693fa",
   "metadata": {},
   "source": [
    "Let's show a quiver plot of this storm!\n",
    "\n",
    "We have specified the quivers to be 4 km apart and moved the key to the bottom right with the specific length indicating 20 m/s winds. Let's look at the 3 km level."
   ]
  },
  {
   "cell_type": "code",
   "execution_count": null,
   "id": "d5358632-5525-434e-8f65-f01e518f9dbe",
   "metadata": {
    "tags": []
   },
   "outputs": [],
   "source": [
    "fig, ax = plt.subplots(1, 1, figsize=(6, 6))\n",
    "pydda.vis.plot_horiz_xsection_quiver(\n",
    "    grids, quiver_spacing_x_km=10.0, quiver_spacing_y_km=10.0, quiver_width=0.005,\n",
    "    quiverkey_len=20.0, w_vel_contours=np.arange(2, 15, 1), level=6, cmap='pyart_ChaseSpectral', ax=ax,\n",
    "    quiverkey_loc='bottom_right')"
   ]
  },
  {
   "cell_type": "markdown",
   "id": "dbcb0031-85b2-418a-980d-1dd06f4ce475",
   "metadata": {},
   "source": [
    "We can zoom in and modify the plot using standard matplotlib functions on the axis handle.\n",
    "\n",
    "It is much easier to see updrafts being placed just to the outside of the strongest precipitation, with potential new growth in the north of the domain with updraft velocities > 7 m/s. The precipitation is downwind of the updraft as we would expect.\n",
    "\n",
    "Updrafts are right tilted due to the horizontal wind shear. The horizontal wind shear also causes the most intense precipitation to be downshear of the updraft. This therefore shows us that we have a good quality wind retrieval below about 5 km in altitude."
   ]
  },
  {
   "cell_type": "code",
   "execution_count": null,
   "id": "113c9e50-5b73-475b-9055-2e45aeeb3ea5",
   "metadata": {
    "tags": []
   },
   "outputs": [],
   "source": [
    "fig, ax = plt.subplots(1, 1, figsize=(6, 4))\n",
    "pydda.vis.plot_xz_xsection_quiver(\n",
    "    grids, quiver_spacing_x_km=8.0, quiver_spacing_z_km=1.0, quiver_width=0.005,\n",
    "    quiverkey_len=20.0, w_vel_contours=np.arange(2, 20, 2), level=130, cmap='pyart_ChaseSpectral', ax=ax,\n",
    "    quiverkey_loc='top_right')\n",
    "ax.set_xlim([-60, 25])\n",
    "ax.set_ylim([0, 15])"
   ]
  },
  {
   "cell_type": "markdown",
   "id": "b02859d6-319c-4059-af54-da47a836b10e",
   "metadata": {},
   "source": [
    "Let's view a horizontal cross section with barbs!"
   ]
  },
  {
   "cell_type": "code",
   "execution_count": null,
   "id": "bebde12e-b17b-48e1-a69e-9d6b6af77eeb",
   "metadata": {
    "tags": []
   },
   "outputs": [],
   "source": [
    "fig, ax = plt.subplots(1, 1, figsize=(6, 6))\n",
    "pydda.vis.plot_horiz_xsection_barbs(\n",
    "    grids, barb_spacing_x_km=6.0, barb_spacing_y_km=6.0,\n",
    "    w_vel_contours=np.arange(1, 10, 1), level=10, cmap='pyart_ChaseSpectral', ax=ax)\n",
    "ax.set_xlim([-60, 0])\n",
    "ax.set_ylim([0, 70])"
   ]
  },
  {
   "cell_type": "code",
   "execution_count": null,
   "id": "58de8f19-a278-4a38-ae61-15362ad234bb",
   "metadata": {},
   "outputs": [],
   "source": []
  }
 ],
 "metadata": {
  "language_info": {
   "codemirror_mode": {
    "name": "ipython",
    "version": 3
   },
   "file_extension": ".py",
   "mimetype": "text/x-python",
   "name": "python",
   "nbconvert_exporter": "python",
   "pygments_lexer": "ipython3",
   "version": "3.10.8"
  }
 },
 "nbformat": 4,
 "nbformat_minor": 5
}
