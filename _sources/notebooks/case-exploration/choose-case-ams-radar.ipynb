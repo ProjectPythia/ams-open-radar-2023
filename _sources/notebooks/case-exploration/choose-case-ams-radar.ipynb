{
 "cells": [
  {
   "cell_type": "markdown",
   "id": "53c7ba76",
   "metadata": {},
   "source": [
    "# Identify a Case for the AMS Open Radar Short Course 2023"
   ]
  },
  {
   "cell_type": "markdown",
   "id": "b77635d8",
   "metadata": {},
   "source": [
    "## Imports"
   ]
  },
  {
   "cell_type": "code",
   "execution_count": null,
   "id": "0649bd33",
   "metadata": {},
   "outputs": [],
   "source": [
    "import glob\n",
    "import fsspec\n",
    "# import s3f3\n",
    "import pyart\n",
    "import matplotlib.pyplot as plt\n",
    "import pydda\n",
    "# import warnings\n",
    "# warnings.filterwarnings(\"ignore\")"
   ]
  },
  {
   "cell_type": "code",
   "execution_count": null,
   "id": "bd1157b3",
   "metadata": {},
   "outputs": [],
   "source": [
    "!pip3 install fsspec"
   ]
  },
  {
   "cell_type": "markdown",
   "id": "daa7b5e8",
   "metadata": {},
   "source": [
    "## April 2008"
   ]
  },
  {
   "cell_type": "markdown",
   "id": "929f0f1c",
   "metadata": {},
   "source": [
    "### UAH ARMOR Radar"
   ]
  },
  {
   "cell_type": "code",
   "execution_count": null,
   "id": "d83690bb",
   "metadata": {},
   "outputs": [],
   "source": [
    "files = glob.glob('../../data/uah-armor/*')\n",
    "radar = pyart.io.read(files[1])"
   ]
  },
  {
   "cell_type": "code",
   "execution_count": null,
   "id": "d7b1b3f3",
   "metadata": {},
   "outputs": [],
   "source": [
    "nyquist = radar.instrument_parameters['nyquist_velocity']['data'][0]\n",
    "vel_dealias = pyart.correct.dealias_region_based(radar,\n",
    "                                                    vel_field='velocity',\n",
    "                                                    nyquist_vel=nyquist,\n",
    "                                                    centered=True,\n",
    "                                                    )\n",
    "radar.add_field('corrected_velocity', vel_dealias, replace_existing=True)"
   ]
  },
  {
   "cell_type": "code",
   "execution_count": null,
   "id": "67634bf9",
   "metadata": {},
   "outputs": [],
   "source": [
    "display = pyart.graph.RadarDisplay(radar)\n",
    "display.plot('reflectivity',\n",
    "             vmin=-20,\n",
    "             vmax=70,\n",
    "             cmap='pyart_NWSRef',\n",
    "             sweep=0)"
   ]
  },
  {
   "cell_type": "code",
   "execution_count": null,
   "id": "3066f21b",
   "metadata": {},
   "outputs": [],
   "source": [
    "display = pyart.graph.RadarDisplay(radar)\n",
    "display.plot('corrected_velocity',\n",
    "             vmin=-30,\n",
    "             vmax=30,\n",
    "             cmap='twilight_shifted',\n",
    "             sweep=0)"
   ]
  },
  {
   "cell_type": "code",
   "execution_count": null,
   "id": "521596c9",
   "metadata": {},
   "outputs": [],
   "source": [
    "grid_limits = ((0., 15000.), (-50_000., 50_000.), (-50_000., 50_000.))\n",
    "grid_shape = (31, 201, 201)\n",
    "uah_grid = pyart.map.grid_from_radars([radar], grid_limits=grid_limits,\n",
    "                                 grid_shape=grid_shape)\n",
    "uah_ds = uah_grid.to_xarray()\n",
    "uah_ds"
   ]
  },
  {
   "cell_type": "code",
   "execution_count": null,
   "id": "5373a6e9",
   "metadata": {
    "tags": []
   },
   "outputs": [],
   "source": [
    "uah_ds.isel(z=1).reflectivity.plot(x='lon',\n",
    "                                   y='lat',\n",
    "                                   vmin=-20,\n",
    "                                   vmax=70,\n",
    "                                   cmap='pyart_NWSRef')"
   ]
  },
  {
   "cell_type": "markdown",
   "id": "39dedb4b",
   "metadata": {},
   "source": [
    "### NEXRAD Data"
   ]
  },
  {
   "cell_type": "code",
   "execution_count": null,
   "id": "2b2ae4cd",
   "metadata": {},
   "outputs": [],
   "source": [
    "import fsspec, s3fs\n",
    "fs = fsspec.filesystem(\"s3\", anon=True)"
   ]
  },
  {
   "cell_type": "code",
   "execution_count": null,
   "id": "121ff823",
   "metadata": {},
   "outputs": [],
   "source": [
    "# files = sorted(fs.glob(\"s3://noaa-nexrad-level2/2008/04/11/KHTX/KHTX20080411_18*\"))\n",
    "# files\n",
    "files = glob.glob('../../data/nextrad/*')\n",
    "radar = pyart.io.read(files[1])"
   ]
  },
  {
   "cell_type": "markdown",
   "id": "9a1f421d",
   "metadata": {},
   "source": [
    "Read a single file, the one closes to the UAH volume scan used before"
   ]
  },
  {
   "cell_type": "code",
   "execution_count": null,
   "id": "22dcaafd",
   "metadata": {},
   "outputs": [],
   "source": [
    "nexrad_radar = pyart.io.read_nexrad_archive(f's3://{files[4]}', station='KHTX')"
   ]
  },
  {
   "cell_type": "code",
   "execution_count": null,
   "id": "d9479da6",
   "metadata": {},
   "outputs": [],
   "source": [
    "display = pyart.graph.RadarDisplay(nexrad_radar)\n",
    "display.plot('reflectivity',\n",
    "                     vmin=-20,\n",
    "                     vmax=70,\n",
    "                     cmap='pyart_ChaseSpectral',\n",
    "                     sweep=0)\n",
    "plt.ylim(-200, 200)\n",
    "plt.xlim(-200, 200)"
   ]
  },
  {
   "cell_type": "code",
   "execution_count": null,
   "id": "8d8a4422",
   "metadata": {},
   "outputs": [],
   "source": [
    "# Use the ARMOR radar lat/lon as the center for the grid\n",
    "grid_lat = radar.latitude['data'][0]\n",
    "grid_lon = radar.longitude['data'][0]\n",
    "\n",
    "# Make sure the velocity is called corrected velocity to match the corrected data from ARMOR\n",
    "nexrad_radar.add_field_like('velocity',\n",
    "                            'corrected_velocity',\n",
    "                            nexrad_radar.fields['velocity']['data'],\n",
    "                            replace_existing=True)\n",
    "\n",
    "nexrad_grid = pyart.map.grid_from_radars([nexrad_radar],\n",
    "                                         grid_limits=grid_limits,\n",
    "                                         grid_shape=grid_shape,\n",
    "                                         grid_origin = (grid_lat, grid_lon),\n",
    "                                        )\n",
    "\n",
    "# Convert to xarray and remove the time dimension\n",
    "nexrad_ds = nexrad_grid.to_xarray().squeeze()"
   ]
  },
  {
   "cell_type": "code",
   "execution_count": null,
   "id": "6cd417d1",
   "metadata": {},
   "outputs": [],
   "source": [
    "nexrad_ds.reflectivity.isel(z=1).plot(x='lon',\n",
    "                                      y='lat',\n",
    "                                      cmap='Spectral_r',\n",
    "                                      vmin=-20,\n",
    "                                      vmax=70)"
   ]
  },
  {
   "cell_type": "code",
   "execution_count": null,
   "id": "723d67e7",
   "metadata": {},
   "outputs": [],
   "source": [
    "nexrad_ds.velocity.isel(z=0).plot(x='lon',\n",
    "                                  y='lat',\n",
    "                                  cmap='twilight_shifted',\n",
    "                                  vmin=-30,\n",
    "                                  vmax=30)"
   ]
  },
  {
   "cell_type": "code",
   "execution_count": null,
   "id": "57cbb644",
   "metadata": {},
   "outputs": [],
   "source": [
    "u_init, v_init, w_init = pydda.initialization.make_constant_wind_field(\n",
    "    uah_grid, (0.0, 0.0, 0.0), vel_field='corrected_velocity')"
   ]
  },
  {
   "cell_type": "code",
   "execution_count": null,
   "id": "0902ed41",
   "metadata": {},
   "outputs": [],
   "source": [
    "grids = pydda.retrieval.get_dd_wind_field([uah_grid, nexrad_grid], u_init,\n",
    "                                          v_init, w_init, Co=1.0, Cm=256.0,\n",
    "                                          Cx=1e-3, Cy=1e-3, Cz=1e-3, Cb=0.,\n",
    "                                          frz=5000.0, filter_window=5,\n",
    "                                          mask_outside_opt=True, upper_bc=1,\n",
    "                                          vel_name='corrected_velocity',\n",
    "                                          wind_tol=0.5, engine=\"tensorflow\")"
   ]
  },
  {
   "cell_type": "code",
   "execution_count": null,
   "id": "badf9c59",
   "metadata": {},
   "outputs": [],
   "source": [
    "ds = grids[1].to_xarray()"
   ]
  },
  {
   "cell_type": "code",
   "execution_count": null,
   "id": "5ff96670",
   "metadata": {},
   "outputs": [],
   "source": [
    "ds.reflectivity.isel(z=0, time=0).plot()"
   ]
  },
  {
   "cell_type": "code",
   "execution_count": null,
   "id": "2db2f8c2",
   "metadata": {},
   "outputs": [],
   "source": [
    "ds.w.isel(z=0, time=0,).plot( x='lon', y='lat')"
   ]
  },
  {
   "cell_type": "code",
   "execution_count": null,
   "id": "ec984ce2",
   "metadata": {},
   "outputs": [],
   "source": []
  },
  {
   "cell_type": "code",
   "execution_count": null,
   "id": "98ddd190",
   "metadata": {},
   "outputs": [],
   "source": []
  }
 ],
 "metadata": {
  "language_info": {
   "codemirror_mode": {
    "name": "ipython",
    "version": 3
   },
   "file_extension": ".py",
   "mimetype": "text/x-python",
   "name": "python",
   "nbconvert_exporter": "python",
   "pygments_lexer": "ipython3",
   "version": "3.8.5"
  }
 },
 "nbformat": 4,
 "nbformat_minor": 5
}
